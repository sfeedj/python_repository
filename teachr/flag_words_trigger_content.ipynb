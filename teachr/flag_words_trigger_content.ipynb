{
 "cells": [
  {
   "cell_type": "code",
   "execution_count": 1,
   "metadata": {},
   "outputs": [],
   "source": [
    "import datetime\n",
    "import firebase_admin\n",
    "from firebase_admin import credentials\n",
    "from firebase_admin import firestore\n",
    "databaseName='messages'\n",
    "\n",
    "# Use a service account\n",
    "cred = credentials.Certificate('service_file.json')\n",
    "firebase_admin.initialize_app(cred)\n",
    "db = firestore.client()\n",
    "collection_ref = db.collection(databaseName)\n",
    "docs = collection_ref.stream()\n",
    "\n"
   ]
  },
  {
   "cell_type": "code",
   "execution_count": 2,
   "metadata": {},
   "outputs": [],
   "source": [
    "# store all docs ids, except the test one\n",
    "ids_array=[]\n",
    "for doc in docs:\n",
    "    if (doc.id !='D***************p'):\n",
    "        ids_array.append(doc.id)\n",
    "\n",
    "\n",
    "# store all messages in conversations\n",
    "conversations_list=[]\n",
    "for id in ids_array:\n",
    "    collection_chat = db.collection(databaseName).document(id).collection('chat')\n",
    "    docs=collection_chat.stream()\n",
    "    document=[]\n",
    "    for doc in docs:\n",
    "        document.append(doc.to_dict())\n",
    "    conversations_list.append(document)\n",
    "\n",
    "\n",
    "conversations_list.sort(\n",
    "    key=lambda conversation: 0 if not conversation else max(\n",
    "        conversation,\n",
    "        key= lambda m: m['createdAt']\n",
    "    )['createdAt']\n",
    ")"
   ]
  },
  {
   "cell_type": "code",
   "execution_count": null,
   "metadata": {},
   "outputs": [],
   "source": [
    "trigger_list=[\"téléphone\",\"telephone\",\"tel\",\"tél\",\"direct\",\"directe\",\"directement\", \"appli\", \"application\", \"num\",\"numéro\",\"numero\",\"numéro.\", \"numero.\",\"06\", \"plateforme\", \"lydia\", \"paypal\", \"€\"]\n",
    "\n",
    "id_list=[]\n",
    "\n",
    "if(trigger_list):\n",
    "    for one_conversation in conversations_list:\n",
    "        one_conversation.sort(key=lambda m: m['createdAt'])\n",
    "        for one_message in one_conversation:\n",
    "                if(any(word in one_message['text'].split() for word in trigger_list)):\n",
    "                print(\"****From:\", int(one_message['user']['_id']), 'at ', datetime.datetime.fromtimestamp(one_message['createdAt']/1000))\n",
    "                for element in one_message['text'].split():\n",
    "                    if(element in trigger_list):\n",
    "                        print(\"\\033[41;37m \"+element+\" \\033[m\",end=' ')\n",
    "                    else:\n",
    "                        print(element,end=' ')\n",
    "                if not one_message['user']['_id'] in id_list :\n",
    "                    id_list.append(int(one_message['user']['_id']) )\n",
    "                if one_message.get('image'):\n",
    "                    print(\"@@image@@: \", one_message['image'])\n",
    "                print('\\n')\n",
    "    print( \"(\"+str(id_list).strip('[]')+\")\" )\n",
    "else:\n",
    "    for one_conversation in conversations_list:\n",
    "        one_conversation.sort(key=lambda m: m['createdAt'])\n",
    "        for one_message in one_conversation:\n",
    "            print(\"****From:\", one_message['user']['_id'], 'at ', datetime.datetime.fromtimestamp(one_message['createdAt']/1000))\n",
    "            print(one_message['text'])\n",
    "            print(one_message)\n",
    "            if one_message.get('image'):\n",
    "                print(\"@@image@@: \", one_message['image'])\n",
    "            print(\"\")\n"
   ]
  }
 ],
 "metadata": {
  "kernelspec": {
   "display_name": "Python 3",
   "language": "python",
   "name": "python3"
  },
  "language_info": {
   "codemirror_mode": {
    "name": "ipython",
    "version": 3
   },
   "file_extension": ".py",
   "mimetype": "text/x-python",
   "name": "python",
   "nbconvert_exporter": "python",
   "pygments_lexer": "ipython3",
   "version": "3.8.6"
  }
 },
 "nbformat": 4,
 "nbformat_minor": 4
}
