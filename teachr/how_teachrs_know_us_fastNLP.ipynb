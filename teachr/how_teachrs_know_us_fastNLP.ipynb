{
  "nbformat": 4,
  "nbformat_minor": 0,
  "metadata": {
    "colab": {
      "name": "how_teachrs_know_us_fastNLP.ipynb",
      "provenance": [],
      "collapsed_sections": []
    },
    "kernelspec": {
      "name": "python3",
      "display_name": "Python 3"
    },
    "language_info": {
      "name": "python"
    }
  },
  "cells": [
    {
      "cell_type": "code",
      "metadata": {
        "colab": {
          "base_uri": "https://localhost:8080/"
        },
        "id": "xOZMGgyg4WXA",
        "outputId": "72d9d376-e351-410f-8ba7-a44d34d41c13"
      },
      "source": [
        "import pandas as pd\n",
        "import spacy\n",
        "import spacy.cli\n",
        "spacy.cli.download(\"fr_core_news_sm\")"
      ],
      "execution_count": null,
      "outputs": [
        {
          "output_type": "stream",
          "text": [
            "\u001b[38;5;2m✔ Download and installation successful\u001b[0m\n",
            "You can now load the model via spacy.load('fr_core_news_sm')\n"
          ],
          "name": "stdout"
        }
      ]
    },
    {
      "cell_type": "code",
      "metadata": {
        "id": "OapcvVqm4iHW"
      },
      "source": [
        "data = pd.read_csv('source.csv')\n",
        "data[\"tokens\"]=\"\""
      ],
      "execution_count": null,
      "outputs": []
    },
    {
      "cell_type": "code",
      "metadata": {
        "colab": {
          "base_uri": "https://localhost:8080/",
          "height": 200
        },
        "id": "TOdBg3aMGbrM",
        "outputId": "0bb0fed1-b790-442b-b85e-001ce58728cc"
      },
      "source": [
        "data.head()"
      ],
      "execution_count": null,
      "outputs": [
        {
          "output_type": "execute_result",
          "data": {
            "text/html": [
              "<div>\n",
              "<style scoped>\n",
              "    .dataframe tbody tr th:only-of-type {\n",
              "        vertical-align: middle;\n",
              "    }\n",
              "\n",
              "    .dataframe tbody tr th {\n",
              "        vertical-align: top;\n",
              "    }\n",
              "\n",
              "    .dataframe thead th {\n",
              "        text-align: right;\n",
              "    }\n",
              "</style>\n",
              "<table border=\"1\" class=\"dataframe\">\n",
              "  <thead>\n",
              "    <tr style=\"text-align: right;\">\n",
              "      <th></th>\n",
              "      <th>Connu</th>\n",
              "      <th>tokens</th>\n",
              "    </tr>\n",
              "  </thead>\n",
              "  <tbody>\n",
              "    <tr>\n",
              "      <th>0</th>\n",
              "      <td>Affiche à l'Isep</td>\n",
              "      <td></td>\n",
              "    </tr>\n",
              "    <tr>\n",
              "      <th>1</th>\n",
              "      <td>Par hasard, en cherchant des sites pour donner...</td>\n",
              "      <td></td>\n",
              "    </tr>\n",
              "    <tr>\n",
              "      <th>2</th>\n",
              "      <td>J'ai connu Teach'r grâce à des amis</td>\n",
              "      <td></td>\n",
              "    </tr>\n",
              "    <tr>\n",
              "      <th>3</th>\n",
              "      <td>J'ai découvert l'application via le play store</td>\n",
              "      <td></td>\n",
              "    </tr>\n",
              "    <tr>\n",
              "      <th>4</th>\n",
              "      <td>J’ai découvert Teach’r sur un site internet</td>\n",
              "      <td></td>\n",
              "    </tr>\n",
              "  </tbody>\n",
              "</table>\n",
              "</div>"
            ],
            "text/plain": [
              "                                               Connu tokens\n",
              "0                                   Affiche à l'Isep       \n",
              "1  Par hasard, en cherchant des sites pour donner...       \n",
              "2                J'ai connu Teach'r grâce à des amis       \n",
              "3     J'ai découvert l'application via le play store       \n",
              "4        J’ai découvert Teach’r sur un site internet       "
            ]
          },
          "metadata": {
            "tags": []
          },
          "execution_count": 52
        }
      ]
    },
    {
      "cell_type": "code",
      "metadata": {
        "id": "yfz7Cr6gBlze"
      },
      "source": [
        "wordList=[\"découvrir\", \"application\", \"connaître\",\"teach'\", 'r', \"trouver\", \"chercher\", \"recherche\", \"contacter\", \"grâce\"]"
      ],
      "execution_count": null,
      "outputs": []
    },
    {
      "cell_type": "code",
      "metadata": {
        "id": "QVlUOyEo5Iyp"
      },
      "source": [
        "nlp = spacy.load('fr_core_news_sm')"
      ],
      "execution_count": null,
      "outputs": []
    },
    {
      "cell_type": "code",
      "metadata": {
        "id": "iKp85mwq56zq"
      },
      "source": [
        "baseDictionary={\n",
        "    \"application store\" : [\"store\", \"stor\", \"play\", \"moteur\", \"rechercher\"], \n",
        "    \"isep\" : [\"isep\"],\n",
        "    \"recherche google\" : [\"internet\", \"google\", \"hasard\"],\n",
        "    \"ami\":[\"ami\", \"copain\", \"copine\", \"connaissance\",\"bouche\",\"oreille\", \"pote\", 'proche', \"collègue\", \"camarade\"],\n",
        "    \"école / université\":[\"école\", \"université\", \"fac\", \"bde\", \"via\",\"annonce\"],\n",
        "    \"radio\":[\"radio\",\"bfm\"],\n",
        "    \"leboncoin\":[\"boncoin\", \"lbc\", \"bon coin\"],\n",
        "    \"publicité\":[\"publicité\", \"pub\"],\n",
        "    \"instagram\":[\"instagram\"],\n",
        "    \"facebook\":[\"facebook\", \"groupe promo\", \"groupe étudiant\", \"fb\"],\n",
        "    \"réponse par vocal\":[\"https\",\"cdn\"],\n",
        "    \"Fondateurs\":[\"eytan\", \"fondateur\", \"propriétaire\", \"créateur\", \"eliott\",\"alexis\" ],\n",
        "    \"gens de confiance\":[\"confiance\"],\n",
        "    \"famille\":[\"soeur\", \"frère\",\"mère\",\"père\",\"parent\", \"cousin\", \"cousine\", \"maman\", \"papa\"],\n",
        "    \"superprof\":[\"superprof\", \"super prof\"],\n",
        "    \"media chinois\":[\"chinois\"]\n",
        "}\n",
        "\n",
        "def sentenceToToken(sentence):\n",
        "  if isinstance(sentence, str):\n",
        "    tokens=[]\n",
        "    doc=nlp(sentence)\n",
        "    for token in doc:\n",
        "        if (not token.is_stop and not token.is_punct) and (token.lemma_ not in wordList):\n",
        "          tokens.append(token.lemma_)\n",
        "    return \" \".join(tokens)\n",
        "  return \"\"\n",
        "\n",
        "def reduceCommonCase(tokens):\n",
        "  tokens = tokens.lower()\n",
        "  for key in baseDictionary:\n",
        "    for val in baseDictionary[key]:\n",
        "      if val in tokens:\n",
        "        return key\n",
        "  return tokens\n",
        "\n",
        "data[\"tokens\"]=data[\"Connu\"].apply(lambda x: sentenceToToken(x))\n",
        "data[\"tokens\"]=data[\"tokens\"].apply(lambda x: reduceCommonCase(x))"
      ],
      "execution_count": null,
      "outputs": []
    },
    {
      "cell_type": "code",
      "metadata": {
        "id": "JuE9gqZgUhaZ"
      },
      "source": [
        "agg_data = data.groupby([\"tokens\"]).count().sort_values(\"Connu\", ascending=False)"
      ],
      "execution_count": null,
      "outputs": []
    },
    {
      "cell_type": "code",
      "metadata": {
        "colab": {
          "base_uri": "https://localhost:8080/",
          "height": 868
        },
        "id": "vlKnVJ2bbWUs",
        "outputId": "6de9847a-5ef1-41ed-8c4e-867c565587bd"
      },
      "source": [
        "agg_data_large=agg_data.loc[agg_data[\"Connu\"]>1]"
      ],
      "execution_count": null,
      "outputs": [
        {
          "output_type": "execute_result",
          "data": {
            "text/html": [
              "<div>\n",
              "<style scoped>\n",
              "    .dataframe tbody tr th:only-of-type {\n",
              "        vertical-align: middle;\n",
              "    }\n",
              "\n",
              "    .dataframe tbody tr th {\n",
              "        vertical-align: top;\n",
              "    }\n",
              "\n",
              "    .dataframe thead th {\n",
              "        text-align: right;\n",
              "    }\n",
              "</style>\n",
              "<table border=\"1\" class=\"dataframe\">\n",
              "  <thead>\n",
              "    <tr style=\"text-align: right;\">\n",
              "      <th></th>\n",
              "      <th>Connu</th>\n",
              "    </tr>\n",
              "    <tr>\n",
              "      <th>tokens</th>\n",
              "      <th></th>\n",
              "    </tr>\n",
              "  </thead>\n",
              "  <tbody>\n",
              "    <tr>\n",
              "      <th>application store</th>\n",
              "      <td>443</td>\n",
              "    </tr>\n",
              "    <tr>\n",
              "      <th>école / université</th>\n",
              "      <td>286</td>\n",
              "    </tr>\n",
              "    <tr>\n",
              "      <th>ami</th>\n",
              "      <td>282</td>\n",
              "    </tr>\n",
              "    <tr>\n",
              "      <th>recherche google</th>\n",
              "      <td>187</td>\n",
              "    </tr>\n",
              "    <tr>\n",
              "      <th>isep</th>\n",
              "      <td>57</td>\n",
              "    </tr>\n",
              "    <tr>\n",
              "      <th>facebook</th>\n",
              "      <td>43</td>\n",
              "    </tr>\n",
              "    <tr>\n",
              "      <th>leboncoin</th>\n",
              "      <td>19</td>\n",
              "    </tr>\n",
              "    <tr>\n",
              "      <th>famille</th>\n",
              "      <td>17</td>\n",
              "    </tr>\n",
              "    <tr>\n",
              "      <th>publicité</th>\n",
              "      <td>16</td>\n",
              "    </tr>\n",
              "    <tr>\n",
              "      <th></th>\n",
              "      <td>13</td>\n",
              "    </tr>\n",
              "    <tr>\n",
              "      <th>Fondateurs</th>\n",
              "      <td>12</td>\n",
              "    </tr>\n",
              "    <tr>\n",
              "      <th>réseau social</th>\n",
              "      <td>12</td>\n",
              "    </tr>\n",
              "    <tr>\n",
              "      <th>radio</th>\n",
              "      <td>8</td>\n",
              "    </tr>\n",
              "    <tr>\n",
              "      <th>instagram</th>\n",
              "      <td>5</td>\n",
              "    </tr>\n",
              "    <tr>\n",
              "      <th>gens de confiance</th>\n",
              "      <td>5</td>\n",
              "    </tr>\n",
              "    <tr>\n",
              "      <th>donner cours particulier</th>\n",
              "      <td>3</td>\n",
              "    </tr>\n",
              "    <tr>\n",
              "      <th>media chinois</th>\n",
              "      <td>3</td>\n",
              "    </tr>\n",
              "    <tr>\n",
              "      <th>superprof</th>\n",
              "      <td>3</td>\n",
              "    </tr>\n",
              "    <tr>\n",
              "      <th>twitter</th>\n",
              "      <td>3</td>\n",
              "    </tr>\n",
              "    <tr>\n",
              "      <th>linkedin</th>\n",
              "      <td>3</td>\n",
              "    </tr>\n",
              "    <tr>\n",
              "      <th>propre</th>\n",
              "      <td>2</td>\n",
              "    </tr>\n",
              "    <tr>\n",
              "      <th>sm</th>\n",
              "      <td>2</td>\n",
              "    </tr>\n",
              "    <tr>\n",
              "      <th>contact</th>\n",
              "      <td>2</td>\n",
              "    </tr>\n",
              "    <tr>\n",
              "      <th>indeed</th>\n",
              "      <td>2</td>\n",
              "    </tr>\n",
              "    <tr>\n",
              "      <th>personnel</th>\n",
              "      <td>2</td>\n",
              "    </tr>\n",
              "    <tr>\n",
              "      <th>donner cours</th>\n",
              "      <td>2</td>\n",
              "    </tr>\n",
              "  </tbody>\n",
              "</table>\n",
              "</div>"
            ],
            "text/plain": [
              "                          Connu\n",
              "tokens                         \n",
              "application store           443\n",
              "école / université          286\n",
              "ami                         282\n",
              "recherche google            187\n",
              "isep                         57\n",
              "facebook                     43\n",
              "leboncoin                    19\n",
              "famille                      17\n",
              "publicité                    16\n",
              "                             13\n",
              "Fondateurs                   12\n",
              "réseau social                12\n",
              "radio                         8\n",
              "instagram                     5\n",
              "gens de confiance             5\n",
              "donner cours particulier      3\n",
              "media chinois                 3\n",
              "superprof                     3\n",
              "twitter                       3\n",
              "linkedin                      3\n",
              "propre                        2\n",
              "sm                            2\n",
              "contact                       2\n",
              "indeed                        2\n",
              "personnel                     2\n",
              "donner cours                  2"
            ]
          },
          "metadata": {
            "tags": []
          },
          "execution_count": 60
        }
      ]
    },
    {
      "cell_type": "code",
      "metadata": {
        "id": "YAvX7zZYFQPu"
      },
      "source": [
        "agg_data_large.to_csv(\"cleanfile.csv\", encoding='utf-8-sig')"
      ],
      "execution_count": null,
      "outputs": []
    },
    {
      "cell_type": "code",
      "metadata": {
        "id": "euto77PMjljL"
      },
      "source": [
        ""
      ],
      "execution_count": null,
      "outputs": []
    }
  ]
}