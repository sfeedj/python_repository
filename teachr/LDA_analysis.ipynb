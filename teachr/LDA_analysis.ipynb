{
 "cells": [
  {
   "cell_type": "markdown",
   "source": [
    "# Latent Dirichlet Allocation ##\n"
   ],
   "metadata": {}
  },
  {
   "cell_type": "markdown",
   "source": [
    "## Load the dataset"
   ],
   "metadata": {}
  },
  {
   "cell_type": "code",
   "execution_count": 1,
   "source": [
    "import firebase_admin\r\n",
    "import gensim\r\n",
    "from firebase_admin import credentials\r\n",
    "from firebase_admin import firestore\r\n",
    "databaseName='messages'\r\n",
    "\r\n",
    "stopwords=['au', 'aux','bonjour', 'avec','ça', 'ce', 'ces', 'dans','merci','teach','teachr','oui', 'de', 'des', 'du', 'elle', 'en', 'et', 'eux', 'il', 'ils', 'je', 'la', 'le', 'les', 'leur', 'lui', 'ma', 'mais', 'me', 'même', 'mes', 'moi', 'mon', 'ne','néanmoins', 'nos', 'notre', 'nous', 'on', 'ou', 'par', 'pas', 'pour', 'qu', 'que', 'qui', 'sa', 'se', 'ses', 'son', 'sur', 'ta', 'te', 'tes', 'toi', 'ton', 'tu', 'un', 'une', 'vos', 'votre', 'vous', 'c', 'd', 'j', 'l', 'à', 'm', 'n', 's', 't', 'y', 'été', 'étée', 'étées', 'étés', 'étant', 'étante', 'étants', 'étantes', 'suis', 'es', 'est', 'sommes', 'êtes', 'sont', 'serai', 'seras', 'sera', 'serons', 'serez', 'seront', 'serais', 'serait', 'serions', 'seriez', 'seraient', 'étais', 'était', 'étions', 'étiez', 'étaient', 'fus', 'fut', 'fûmes', 'fûtes', 'furent', 'sois', 'soit', 'soyons', 'soyez', 'soient', 'fusse', 'fusses', 'fût', 'fussions', 'fussiez', 'fussent', 'ayant', 'ayante', 'ayantes', 'ayants', 'eu', 'eue', 'eues', 'eus', 'ai', 'as', 'avons', 'avez', 'ont', 'aurai', 'auras', 'aura', 'aurons', 'aurez', 'auront', 'aurais', 'aurait', 'aurions', 'auriez', 'auraient', 'avais', 'avait', 'avions', 'aviez', 'avaient', 'eut', 'eûmes', 'eûtes', 'eurent', 'aie', 'aies', 'ait', 'ayons', 'ayez', 'aient', 'eusse', 'eusses', 'eût', 'eussions', 'eussiez', 'eussent']\r\n"
   ],
   "outputs": [
    {
     "output_type": "stream",
     "name": "stderr",
     "text": [
      "/home/eliott/.local/lib/python3.8/site-packages/gensim/similarities/__init__.py:15: UserWarning: The gensim.similarities.levenshtein submodule is disabled, because the optional Levenshtein package <https://pypi.org/project/python-Levenshtein/> is unavailable. Install Levenhstein (e.g. `pip install python-Levenshtein`) to suppress this warning.\n",
      "  warnings.warn(msg)\n"
     ]
    }
   ],
   "metadata": {}
  },
  {
   "cell_type": "code",
   "execution_count": 2,
   "source": [
    "#  -------------------------- IMPORT FIREBASE COLLECTION\r\n",
    "\r\n",
    "\r\n",
    "# Use a service account\r\n",
    "cred = credentials.Certificate('service_file.json')\r\n",
    "firebase_admin.initialize_app(cred)\r\n",
    "db = firestore.client()\r\n",
    "collection_ref = db.collection(databaseName)\r\n",
    "docs = collection_ref.stream()"
   ],
   "outputs": [],
   "metadata": {}
  },
  {
   "cell_type": "code",
   "execution_count": 3,
   "source": [
    "# store all docs ids, except the test one\r\n",
    "ids_array=[]\r\n",
    "for doc in docs:\r\n",
    "    if (doc.id !='D***************p'):\r\n",
    "        ids_array.append(doc.id)\r\n"
   ],
   "outputs": [],
   "metadata": {}
  },
  {
   "cell_type": "code",
   "execution_count": 4,
   "source": [
    "# store all messages in conversations\n",
    "conversations_list=[]\n",
    "for id in ids_array:\n",
    "    collection_chat = db.collection(databaseName).document(id).collection('chat')\n",
    "    docs=collection_chat.stream()\n",
    "    document=[]\n",
    "    for doc in docs:\n",
    "        document.append(doc.to_dict()['text'])\n",
    "    conversations_list.append(document)"
   ],
   "outputs": [],
   "metadata": {}
  },
  {
   "cell_type": "code",
   "execution_count": 5,
   "source": [
    "introMsg1=\"Bonjour ! \\nje suis à ta disposition pour toute question ou information au sujet de l'appli Teach'r.\\n N'hésite pas à me solliciter en cas de besoin, et je ferai le nécessaire pour t'aider\\n En cas d'urgence ou si mon temps de réponse est anormalement long, tu peux nous contacter par mail à l'adresse support@teachr.fr\\nAu plaisir de t'aider,\\nL'équipe Teach'r\"\n",
    "introMsg2=\"Bonjour !\\nje suis à votre disposition pour toute question ou information au sujet de l'appli Teach'r. \\nN'hésitez pas à me solliciter en cas de besoin, et je ferai le nécessaire pour vous aider\\nEn cas d'urgence ou si mon temps de réponse est anormalement long, veuillez nous contacter par mail à l'adresse support@teachr.fr\\n Au plaisir de vous aider,\\nL'équipe Teach'r\"\n",
    "introMsg3=\"Bonjour ! \\nJe suis Benjamin du service client Teach'r. Si tu as une question ou que tu recherche une information, je suis là pour ça.\\nTu peux retrouver toutes nos questions/réponses en cliquant sur ce lien : www.teachr.fr/faq \\nN'hésite pas à me solliciter en cas de besoin, et je ferai le nécessaire pour t'aider\\n En cas d'urgence ou si mon temps de réponse est anormalement long, tu peux nous contacter par mail à l'adresse support@teachr.fr\\nAu plaisir de t'aider,\\nL'équipe Teach'r\"\n",
    "introMsg4=\"Bonjour !\\nJe suis Benjamin du service client Teach'r. Si vous avez une question ou que vous recherchez une information, je suis là pour ça.  \\nVous pouvez retrouver toutes nos questions/réponses en cliquant sur ce lien : www.teachr.fr/faq \\nN'hésitez pas à me solliciter en cas de besoin, et je ferai le nécessaire pour vous aider\\nEn cas d'urgence ou si mon temps de réponse est anormalement long, veuillez nous contacter par mail à l'adresse support@teachr.fr\\n Au plaisir de vous aider,\\nL'équipe Teach'r\"\n",
    "introMsg5=\"Bonjour ! \\nje suis Benjamin du service client Teach'r. Si tu as une question ou que tu recherche une information, je suis là pour ça.\\nTu peux retrouver toutes nos questions/réponses en cliquant sur ce lien : www.teachr.fr/faq \\nN'hésite pas à me solliciter en cas de besoin, et je ferai le nécessaire pour t'aider\\n En cas d'urgence ou si mon temps de réponse est anormalement long, tu peux nous contacter par mail à l'adresse support@teachr.fr\\nAu plaisir de t'aider,\\nL'équipe Teach'r\"\n",
    "toExclude=[introMsg1,introMsg2,introMsg3,introMsg4,introMsg5]\n",
    "\n",
    "filtered_list=[]\n",
    "for conv in conversations_list:\n",
    "    filtered_conv=[]\n",
    "    for msg in conv:\n",
    "        if msg not in toExclude:\n",
    "            filtered_conv.append(msg)\n",
    "    filtered_list.append(filtered_conv)"
   ],
   "outputs": [],
   "metadata": {
    "tags": []
   }
  },
  {
   "cell_type": "code",
   "execution_count": 6,
   "source": [
    "'''\n",
    "Loading Gensim and nltk libraries\n",
    "'''\n",
    "# pip install gensim\n",
    "import gensim\n",
    "from gensim.utils import simple_preprocess\n",
    "from gensim.parsing.preprocessing import STOPWORDS\n",
    "from nltk.stem.porter import *\n",
    "import numpy as np\n"
   ],
   "outputs": [],
   "metadata": {}
  },
  {
   "cell_type": "markdown",
   "source": [
    "### Lemmating / Stemming"
   ],
   "metadata": {}
  },
  {
   "cell_type": "code",
   "execution_count": 7,
   "source": [
    "import nltk\n",
    "from nltk.stem.snowball import FrenchStemmer\n",
    "from french_lefff_lemmatizer.french_lefff_lemmatizer import FrenchLefffLemmatizer\n",
    "\n",
    "lemmatizer=FrenchLefffLemmatizer()\n",
    "stemmer = FrenchStemmer()"
   ],
   "outputs": [],
   "metadata": {}
  },
  {
   "cell_type": "code",
   "execution_count": 8,
   "source": [
    "def lem_stem(text):\n",
    "    return lemmatizer.lemmatize(text,'n')\n",
    "\n",
    "# Tokenize and lemmatize\n",
    "def preprocess(text):\n",
    "    result=[]\n",
    "    for token in gensim.utils.simple_preprocess(text) :\n",
    "        if token not in stopwords:\n",
    "            result.append(lem_stem(token))      \n",
    "    return result\n"
   ],
   "outputs": [],
   "metadata": {}
  },
  {
   "cell_type": "code",
   "execution_count": 9,
   "source": [
    "processed_list = []\n",
    "for conv in filtered_list:\n",
    "    for msg in conv:\n",
    "        processed_list.append(preprocess(msg))\n"
   ],
   "outputs": [],
   "metadata": {
    "scrolled": true
   }
  },
  {
   "cell_type": "markdown",
   "source": [
    "## Bag of words\n"
   ],
   "metadata": {}
  },
  {
   "cell_type": "code",
   "execution_count": 10,
   "source": [
    "'''\n",
    "Create a dictionary from 'processed_docs' containing the number of times a word appears \n",
    "'''\n",
    "dictionary = gensim.corpora.Dictionary(processed_list)\n"
   ],
   "outputs": [],
   "metadata": {}
  },
  {
   "cell_type": "code",
   "execution_count": 11,
   "source": [
    "'''\n",
    "Remove very rare and very common words:\n",
    "\n",
    "- words appearing less than 2 times\n",
    "- words appearing in more than 70% of all documents\n",
    "'''\n",
    "dictionary.filter_extremes(no_below=2, no_above=0.7, keep_n= 100000)\n"
   ],
   "outputs": [],
   "metadata": {}
  },
  {
   "cell_type": "code",
   "execution_count": 12,
   "source": [
    "# '''\n",
    "# Build a list with tokens and their frequency\n",
    "# '''\n",
    "# l=[(dictionary[id],dictionary.cfs[id]) for id in range(len(dictionary))]\n",
    "# print(l)"
   ],
   "outputs": [],
   "metadata": {}
  },
  {
   "cell_type": "markdown",
   "source": [
    "### Bag of words ##\n",
    "\n",
    "[`doc2bow(document)`](https://radimrehurek.com/gensim/corpora/dictionary.html#gensim.corpora.dictionary.Dictionary.doc2bow)\n",
    "\n",
    "Convert the list into bag-of-words = list of (token_id, token_count)"
   ],
   "metadata": {}
  },
  {
   "cell_type": "code",
   "execution_count": 13,
   "source": [
    "'''\r\n",
    "Create the Bag-of-words model for each document: for each document we create a dictionary reporting how many\r\n",
    "words and how many times those words appear.\r\n",
    "'''\r\n",
    "bow_corpus = [dictionary.doc2bow(doc) for doc in processed_list]\r\n"
   ],
   "outputs": [],
   "metadata": {
    "scrolled": true
   }
  },
  {
   "cell_type": "markdown",
   "source": [
    "## Step 4: Running LDA using Bag of Words ##\n",
    "\n",
    "https://radimrehurek.com/gensim/models/ldamulticore.html\n",
    "number of topics is defined at the begining of the program"
   ],
   "metadata": {}
  },
  {
   "cell_type": "code",
   "execution_count": 14,
   "source": [
    "'''\r\n",
    "Train an lda model using gensim.models.LdaMulticore and save it to 'lda_model'\r\n",
    "'''\r\n",
    "numberOfTopics = 3\r\n",
    "lda_model =  gensim.models.LdaMulticore(bow_corpus, num_topics = numberOfTopics,id2word = dictionary, passes = 20, workers = 2)"
   ],
   "outputs": [],
   "metadata": {}
  },
  {
   "cell_type": "code",
   "execution_count": 15,
   "source": [
    "'''\r\n",
    "For each topic, we will explore the words occuring in that topic and its relative weight\r\n",
    "'''\r\n",
    "for idx, topic in lda_model.print_topics(-1):\r\n",
    "    print(\"Topic: {} \\nWords: {}\".format(idx, topic ))\r\n",
    "    print(\"\\n\")"
   ],
   "outputs": [
    {
     "output_type": "stream",
     "name": "stdout",
     "text": [
      "Topic: 0 \n",
      "Words: 0.023*\"cour\" + 0.017*\"bien\" + 0.016*\"si\" + 0.015*\"ok\" + 0.012*\"heure\" + 0.011*\"tout\" + 0.010*\"bonsoir\" + 0.010*\"fait\" + 0.009*\"faire\" + 0.009*\"plus\"\n",
      "\n",
      "\n",
      "Topic: 1 \n",
      "Words: 0.037*\"cour\" + 0.016*\"bonne\" + 0.013*\"si\" + 0.012*\"demain\" + 0.012*\"envoyer\" + 0.011*\"accord\" + 0.011*\"faire\" + 0.011*\"disponible\" + 0.010*\"peux\" + 0.010*\"journée\"\n",
      "\n",
      "\n",
      "Topic: 2 \n",
      "Words: 0.050*\"réponse\" + 0.049*\"question\" + 0.048*\"si\" + 0.047*\"aider\" + 0.047*\"cas\" + 0.045*\"fr\" + 0.028*\"mail\" + 0.025*\"information\" + 0.025*\"adresse\" + 0.025*\"lien\"\n",
      "\n",
      "\n"
     ]
    }
   ],
   "metadata": {
    "scrolled": true
   }
  },
  {
   "cell_type": "markdown",
   "source": [
    "## Step 4: Visualization ##\n",
    "\n",
    "https://towardsdatascience.com/evaluate-topic-model-in-python-latent-dirichlet-allocation-lda-7d57484bb5d0\n"
   ],
   "metadata": {}
  },
  {
   "cell_type": "code",
   "execution_count": 16,
   "source": [
    "import pyLDAvis.gensim_models as gensimvis\r\n",
    "#import pickle \r\n",
    "import pyLDAvis\r\n",
    "# Visualize the topics\r\n",
    "pyLDAvis.enable_notebook()\r\n",
    "LDAvis_prepared = gensimvis.prepare(lda_model, bow_corpus, dictionary)\r\n",
    "LDAvis_prepared"
   ],
   "outputs": [
    {
     "output_type": "execute_result",
     "data": {
      "text/plain": [
       "PreparedData(topic_coordinates=              x         y  topics  cluster       Freq\n",
       "topic                                                \n",
       "2      0.382563 -0.003155       1        1  38.624331\n",
       "1     -0.198024 -0.132691       2        1  32.071845\n",
       "0     -0.184539  0.135846       3        1  29.303824, topic_info=         Term         Freq        Total Category  logprob  loglift\n",
       "21   question  1306.000000  1306.000000  Default  30.0000  30.0000\n",
       "4         cas  1256.000000  1256.000000  Default  29.0000  29.0000\n",
       "11         fr  1201.000000  1201.000000  Default  28.0000  28.0000\n",
       "24    réponse  1375.000000  1375.000000  Default  27.0000  27.0000\n",
       "1       aider  1322.000000  1322.000000  Default  26.0000  26.0000\n",
       "..        ...          ...          ...      ...      ...      ...\n",
       "274      donc    96.395270   216.974478   Topic3  -5.3470   0.4161\n",
       "57     pouvez   114.694423   608.314546   Topic3  -5.1732  -0.4410\n",
       "3      besoin   120.489990   763.395046   Topic3  -5.1239  -0.6188\n",
       "139   demande    77.977886   250.705605   Topic3  -5.5591   0.0596\n",
       "29      temps    79.440763   737.227409   Topic3  -5.5405  -1.0004\n",
       "\n",
       "[189 rows x 6 columns], token_table=      Topic      Freq      Term\n",
       "term                           \n",
       "323       2  0.968456  accepter\n",
       "52        2  0.998043    accord\n",
       "52        3  0.003992    accord\n",
       "0         1  0.998328   adresse\n",
       "251       2  0.089046      aide\n",
       "...     ...       ...       ...\n",
       "253       3  0.988987      zoom\n",
       "33        1  0.949178    équipe\n",
       "33        2  0.050034    équipe\n",
       "433       2  0.425074      être\n",
       "433       3  0.571193      être\n",
       "\n",
       "[246 rows x 3 columns], R=30, lambda_step=0.01, plot_opts={'xlab': 'PC1', 'ylab': 'PC2'}, topic_order=[3, 2, 1])"
      ],
      "text/html": [
       "\n",
       "<link rel=\"stylesheet\" type=\"text/css\" href=\"https://cdn.jsdelivr.net/gh/bmabey/pyLDAvis@3.3.1/pyLDAvis/js/ldavis.v1.0.0.css\">\n",
       "\n",
       "\n",
       "<div id=\"ldavis_el139161396573577759206461796785\"></div>\n",
       "<script type=\"text/javascript\">\n",
       "\n",
       "var ldavis_el139161396573577759206461796785_data = {\"mdsDat\": {\"x\": [0.38256300666045956, -0.19802357776937496, -0.18453942889108463], \"y\": [-0.0031550345978573827, -0.13269119325543896, 0.13584622785329645], \"topics\": [1, 2, 3], \"cluster\": [1, 1, 1], \"Freq\": [38.6243305187795, 32.071845452666274, 29.30382402855422]}, \"tinfo\": {\"Term\": [\"question\", \"cas\", \"fr\", \"r\\u00e9ponse\", \"aider\", \"cour\", \"adresse\", \"lien\", \"mail\", \"support\", \"l\\u00e0\", \"contacter\", \"eytan\", \"toutes\", \"plaisir\", \"service\", \"n\\u00e9cessaire\", \"long\", \"client\", \"urgence\", \"retrouver\", \"ferai\", \"www\", \"anormalement\", \"faq\", \"solliciter\", \"cliquant\", \"information\", \"\\u00e9quipe\", \"besoin\", \"fr\", \"contacter\", \"ferai\", \"www\", \"retrouver\", \"anormalement\", \"faq\", \"solliciter\", \"cliquant\", \"client\", \"urgence\", \"plaisir\", \"long\", \"n\\u00e9cessaire\", \"support\", \"adresse\", \"toutes\", \"eytan\", \"lien\", \"cas\", \"recherchez\", \"h\\u00e9site\", \"veuillez\", \"service\", \"question\", \"recherche\", \"l\\u00e0\", \"h\\u00e9sitez\", \"r\\u00e9ponse\", \"mail\", \"aider\", \"information\", \"\\u00e9quipe\", \"temps\", \"besoin\", \"si\", \"peux\", \"accord\", \"parfait\", \"re\\u00e7u\", \"super\", \"soir\\u00e9e\", \"sinon\", \"vendredi\", \"hui\", \"aujourd\", \"samedi\", \"aussi\", \"bon\", \"week\", \"end\", \"salut\", \"esp\\u00e8re\", \"personnelles\", \"normalement\", \"appli\", \"s\\u00e9ance\", \"changer\", \"c\\u00f4t\\u00e9\", \"top\", \"mercredi\", \"partage\", \"mardi\", \"accepter\", \"autorise\", \"partir\", \"nouvelle\", \"journ\\u00e9e\", \"envoyer\", \"cependant\", \"prochaine\", \"bonne\", \"demain\", \"probl\\u00e8me\", \"va\", \"midi\", \"matin\", \"ici\", \"disponible\", \"semaine\", \"cour\", \"vais\", \"comme\", \"ver\", \"apr\\u00e8s\", \"message\", \"demande\", \"faire\", \"lundi\", \"possible\", \"application\", \"bien\", \"beaucoup\", \"peux\", \"si\", \"donc\", \"plus\", \"niveau\", \"ok\", \"quelle\", \"d\\u00e9j\\u00e0\", \"zoom\", \"sais\", \"ca\", \"tarif\", \"s\\u00fbr\", \"mati\\u00e8re\", \"cherche\", \"dissertation\", \"partie\", \"an\", \"base\", \"espagnol\", \"dire\", \"difficult\\u00e9\", \"exercice\", \"expliquer\", \"prends\", \"type\", \"droit\", \"fille\", \"heure\", \"m\\u00e9thode\", \"note\", \"classe\", \"terminale\", \"chapitre\", \"trop\", \"quel\", \"enfant\", \"prix\", \"fil\", \"pensez\", \"vois\", \"aide\", \"fait\", \"maths\", \"tr\\u00e8s\", \"tout\", \"num\\u00e9ro\", \"bien\", \"bonsoir\", \"vraiment\", \"cela\", \"plus\", \"cour\", \"faire\", \"devoir\", \"souci\", \"si\", \"avoir\", \"\\u00eatre\", \"comment\", \"peut\", \"donc\", \"pouvez\", \"besoin\", \"demande\", \"temps\"], \"Freq\": [1306.0, 1256.0, 1201.0, 1375.0, 1322.0, 1288.0, 673.0, 658.0, 789.0, 636.0, 657.0, 624.0, 626.0, 616.0, 613.0, 619.0, 604.0, 599.0, 588.0, 588.0, 588.0, 587.0, 586.0, 583.0, 582.0, 582.0, 582.0, 706.0, 679.0, 763.0, 1200.4488590644862, 624.1008027120157, 587.1555011305895, 585.7308678239295, 587.7204744828784, 582.8889062579123, 582.0360047146513, 582.0358556320533, 582.0358556320533, 588.0040295843087, 588.0000540483616, 613.2983273538306, 599.0753008667203, 603.9032414151346, 635.6928692035036, 672.273713526975, 615.9601474472427, 625.6782456816442, 657.4653390658468, 1254.338640265642, 295.45142065718505, 302.23251716933294, 248.60646308407104, 616.7952087729408, 1298.9991153770977, 312.4597573230656, 652.3048449354536, 335.42486312245325, 1326.2500228572071, 758.9964522316291, 1263.2862796334864, 678.8594372944203, 645.4745263188602, 640.4461690645103, 639.80908942898, 1273.7195767847797, 652.6976278870318, 249.58902652388193, 160.85473848712255, 114.3231973566378, 115.2549121779346, 163.1120615620505, 71.33164230790582, 72.90039204474694, 67.07487395763333, 67.0743375288959, 111.4681379291511, 152.91008446262478, 206.40416112686634, 57.283718743582874, 56.223549871545494, 54.34237681686759, 59.257167857036436, 44.58844150444514, 44.26666163151505, 45.29708449846807, 42.43078585733842, 40.30880272127096, 37.13461203774523, 36.079178180909416, 112.60958607084676, 34.24080852890059, 50.60462390193561, 32.37497011495717, 31.593341864831647, 73.42601483790139, 34.17457247474924, 226.35066540393493, 259.51469124384363, 45.06702878167031, 70.86822977438764, 353.8977183088894, 259.8340520294866, 151.35123286758304, 143.75824914422134, 69.72914914029276, 70.246735818323, 78.83747183534061, 232.66723757845037, 139.36287586094608, 828.5755028956452, 119.72913016967519, 156.05117388247288, 101.68596789645262, 119.02559356459513, 170.23113112776505, 172.3878222347381, 248.380597001568, 89.59506015753074, 129.4237488428623, 120.23156789384159, 206.927694942726, 118.6800509301905, 226.5153077625777, 292.7016390963403, 120.24514366727352, 124.68970333939644, 84.87981562413582, 306.3643160320114, 70.39779010671995, 97.77908012754135, 74.11013364864621, 97.46877992570755, 62.54134924274838, 63.253335558353015, 55.508239315877226, 63.159583820631205, 44.86764565526915, 44.319212363637654, 42.423544969190004, 41.53963098335817, 40.47174340955839, 32.52916669325978, 80.29393096998783, 29.808382210372216, 101.47535773301288, 32.687535636828066, 26.623377465630014, 26.85773324593271, 27.371984596494663, 67.1339119350179, 233.0174581053754, 25.262940452582733, 26.305270509986528, 24.44945455545119, 23.390073586315754, 71.71547966402875, 46.06459326714825, 84.36101170841832, 37.193514760735596, 62.96847976570638, 69.52448463451663, 44.36789559143971, 60.51506658609995, 101.58786170339921, 204.22449114950498, 60.84567424471971, 139.46830482018248, 214.83909371608323, 106.10361988807047, 350.3264300861604, 204.82113167610137, 68.79953340509945, 156.18573879777907, 181.90762824500476, 459.61559197821504, 191.41653244043025, 93.91598824024197, 108.31651530089297, 326.66519374866743, 91.06533783041215, 86.47159222525023, 88.44410654249947, 95.8636566739508, 96.39526998106868, 114.69442344379424, 120.48998969641582, 77.97788649550961, 79.44076329375721], \"Total\": [1306.0, 1256.0, 1201.0, 1375.0, 1322.0, 1288.0, 673.0, 658.0, 789.0, 636.0, 657.0, 624.0, 626.0, 616.0, 613.0, 619.0, 604.0, 599.0, 588.0, 588.0, 588.0, 587.0, 586.0, 583.0, 582.0, 582.0, 582.0, 706.0, 679.0, 763.0, 1201.080388015369, 624.7644299419703, 587.780595045132, 586.3546247789379, 588.3464556756836, 583.5105603010041, 582.6573764894865, 582.6572611071998, 582.657299893443, 588.6325539507285, 588.6321619873318, 613.9649773906489, 599.7289522435634, 604.565756564618, 636.4315722100615, 673.1256862395852, 616.8003751178289, 626.7338076421174, 658.6190020206496, 1256.7494519764748, 296.0763256274406, 302.8814326196636, 249.39620986436194, 619.2315431208209, 1306.7887272027954, 314.74167863559006, 657.2384639980364, 338.0774801653385, 1375.1778206282045, 789.0997419505671, 1322.8076913238208, 706.2085422087656, 679.5352216138789, 737.2274090912338, 763.3950456685569, 1893.0864096297876, 946.0569349571858, 250.49008503418435, 161.650177485755, 114.99551464842176, 116.05132235063749, 164.35246152180048, 72.01557852949874, 73.60546721154957, 67.7624794738018, 67.76248565601888, 112.62986122150367, 154.52678909759658, 208.6338819483203, 57.98452366871182, 56.92273108805706, 55.033559053010755, 60.09050210457238, 45.24381970265185, 44.96956670057052, 46.02475916773693, 43.1193723605077, 40.99617188522615, 37.81040817773986, 36.754524354554256, 114.72022032942272, 34.8995160984513, 51.597823959314475, 33.04229159950106, 32.24847926404138, 74.9572151723927, 34.89306918909524, 233.0798380397516, 267.85242547902124, 46.04072816469976, 73.11626957828267, 381.37281158613234, 283.6948607521641, 166.6264896573961, 159.71081780971127, 73.3815632234394, 74.16705381492498, 84.28224303103057, 278.42783655742585, 162.459197646907, 1288.555295459334, 141.25498340761408, 196.64422980736757, 117.28719979733886, 147.94799243999324, 241.89885848657755, 250.70560543091554, 440.13597363505346, 106.42405733005381, 195.6522500783738, 175.8855396041767, 557.5923074495303, 193.11750459378095, 946.0569349571858, 1893.0864096297876, 216.97447848721714, 306.93299396560826, 85.54721910326623, 308.98320766613944, 71.05222303253764, 98.70464137862206, 74.82404032570042, 98.4406147411999, 63.26485582494915, 64.06985103840563, 56.284518816114236, 64.08733677228597, 45.53928432427118, 45.011351045037266, 43.1235660907299, 42.31184073793808, 41.23049194217342, 33.176744317919855, 82.05452988090556, 30.49016946860854, 103.81932006071466, 33.44491983874249, 27.278070925757387, 27.54111672403114, 28.081759451115698, 68.89300215772124, 239.13718277122163, 25.931587162656616, 27.00595816642365, 25.1205940017115, 24.039216744589638, 73.70667782570104, 47.39763213614334, 87.40870389612557, 38.28295328143544, 65.65478322392534, 73.17012745837094, 46.33293741005545, 64.30075088612745, 112.3010756840868, 242.77177454724213, 66.67673256528917, 174.83237024038232, 293.83918057057843, 130.40104414067093, 557.5923074495303, 293.6929913904846, 79.77885834218095, 237.92372956825827, 306.93299396560826, 1288.555295459334, 440.13597363505346, 137.91479394073596, 184.2416511265274, 1893.0864096297876, 168.9372488097207, 150.56204028041975, 161.7001762596463, 207.70457957682055, 216.97447848721714, 608.3145459697421, 763.3950456685569, 250.70560543091554, 737.2274090912338], \"Category\": [\"Default\", \"Default\", \"Default\", \"Default\", \"Default\", \"Default\", \"Default\", \"Default\", \"Default\", \"Default\", \"Default\", \"Default\", \"Default\", \"Default\", \"Default\", \"Default\", \"Default\", \"Default\", \"Default\", \"Default\", \"Default\", \"Default\", \"Default\", \"Default\", \"Default\", \"Default\", \"Default\", \"Default\", \"Default\", \"Default\", \"Topic1\", \"Topic1\", \"Topic1\", \"Topic1\", \"Topic1\", \"Topic1\", \"Topic1\", \"Topic1\", \"Topic1\", \"Topic1\", \"Topic1\", \"Topic1\", \"Topic1\", \"Topic1\", \"Topic1\", \"Topic1\", \"Topic1\", \"Topic1\", \"Topic1\", \"Topic1\", \"Topic1\", \"Topic1\", \"Topic1\", \"Topic1\", \"Topic1\", \"Topic1\", \"Topic1\", \"Topic1\", \"Topic1\", \"Topic1\", \"Topic1\", \"Topic1\", \"Topic1\", \"Topic1\", \"Topic1\", \"Topic1\", \"Topic1\", \"Topic2\", \"Topic2\", \"Topic2\", \"Topic2\", \"Topic2\", \"Topic2\", \"Topic2\", \"Topic2\", \"Topic2\", \"Topic2\", \"Topic2\", \"Topic2\", \"Topic2\", \"Topic2\", \"Topic2\", \"Topic2\", \"Topic2\", \"Topic2\", \"Topic2\", \"Topic2\", \"Topic2\", \"Topic2\", \"Topic2\", \"Topic2\", \"Topic2\", \"Topic2\", \"Topic2\", \"Topic2\", \"Topic2\", \"Topic2\", \"Topic2\", \"Topic2\", \"Topic2\", \"Topic2\", \"Topic2\", \"Topic2\", \"Topic2\", \"Topic2\", \"Topic2\", \"Topic2\", \"Topic2\", \"Topic2\", \"Topic2\", \"Topic2\", \"Topic2\", \"Topic2\", \"Topic2\", \"Topic2\", \"Topic2\", \"Topic2\", \"Topic2\", \"Topic2\", \"Topic2\", \"Topic2\", \"Topic2\", \"Topic2\", \"Topic2\", \"Topic2\", \"Topic2\", \"Topic2\", \"Topic3\", \"Topic3\", \"Topic3\", \"Topic3\", \"Topic3\", \"Topic3\", \"Topic3\", \"Topic3\", \"Topic3\", \"Topic3\", \"Topic3\", \"Topic3\", \"Topic3\", \"Topic3\", \"Topic3\", \"Topic3\", \"Topic3\", \"Topic3\", \"Topic3\", \"Topic3\", \"Topic3\", \"Topic3\", \"Topic3\", \"Topic3\", \"Topic3\", \"Topic3\", \"Topic3\", \"Topic3\", \"Topic3\", \"Topic3\", \"Topic3\", \"Topic3\", \"Topic3\", \"Topic3\", \"Topic3\", \"Topic3\", \"Topic3\", \"Topic3\", \"Topic3\", \"Topic3\", \"Topic3\", \"Topic3\", \"Topic3\", \"Topic3\", \"Topic3\", \"Topic3\", \"Topic3\", \"Topic3\", \"Topic3\", \"Topic3\", \"Topic3\", \"Topic3\", \"Topic3\", \"Topic3\", \"Topic3\", \"Topic3\", \"Topic3\", \"Topic3\", \"Topic3\", \"Topic3\", \"Topic3\", \"Topic3\"], \"logprob\": [30.0, 29.0, 28.0, 27.0, 26.0, 25.0, 24.0, 23.0, 22.0, 21.0, 20.0, 19.0, 18.0, 17.0, 16.0, 15.0, 14.0, 13.0, 12.0, 11.0, 10.0, 9.0, 8.0, 7.0, 6.0, 5.0, 4.0, 3.0, 2.0, 1.0, -3.1012, -3.7553, -3.8164, -3.8188, -3.8154, -3.8236, -3.8251, -3.8251, -3.8251, -3.8149, -3.8149, -3.7728, -3.7963, -3.7882, -3.7369, -3.681, -3.7685, -3.7528, -3.7033, -3.0573, -4.5031, -4.4804, -4.6758, -3.7671, -3.0223, -4.4472, -3.7111, -4.3762, -3.0015, -3.5596, -3.0502, -3.6712, -3.7217, -3.7295, -3.7305, -3.0419, -3.7105, -4.4859, -4.9252, -5.2667, -5.2586, -4.9113, -5.7384, -5.7166, -5.7999, -5.7999, -5.292, -4.9759, -4.6759, -5.9577, -5.9764, -6.0104, -5.9239, -6.2083, -6.2155, -6.1925, -6.2579, -6.3092, -6.3912, -6.42, -5.2818, -6.4723, -6.0817, -6.5284, -6.5528, -5.7095, -6.4743, -4.5837, -4.4469, -6.1976, -5.7449, -4.1367, -4.4457, -4.9861, -5.0376, -5.7611, -5.7537, -5.6384, -4.5561, -5.0687, -3.286, -5.2205, -4.9556, -5.3839, -5.2264, -4.8686, -4.856, -4.4908, -5.5104, -5.1427, -5.2163, -4.6734, -5.2293, -4.5829, -4.3266, -5.2162, -5.1799, -5.4742, -4.1907, -5.6613, -5.3328, -5.6099, -5.3359, -5.7797, -5.7683, -5.899, -5.7698, -6.1118, -6.1241, -6.1678, -6.1888, -6.2149, -6.4333, -5.5298, -6.5207, -5.2957, -6.4285, -6.6337, -6.6249, -6.606, -5.7088, -4.4644, -6.6861, -6.6457, -6.7189, -6.7632, -5.6428, -6.0854, -5.4804, -6.2993, -5.7728, -5.6738, -6.123, -5.8126, -5.2946, -4.5963, -5.8071, -4.9776, -4.5456, -5.2511, -4.0566, -4.5933, -5.6843, -4.8644, -4.712, -3.7851, -4.661, -5.3731, -5.2304, -4.1265, -5.4039, -5.4557, -5.4331, -5.3526, -5.347, -5.1732, -5.1239, -5.5591, -5.5405], \"loglift\": [30.0, 29.0, 28.0, 27.0, 26.0, 25.0, 24.0, 23.0, 22.0, 21.0, 20.0, 19.0, 18.0, 17.0, 16.0, 15.0, 14.0, 13.0, 12.0, 11.0, 10.0, 9.0, 8.0, 7.0, 6.0, 5.0, 4.0, 3.0, 2.0, 1.0, 0.9508, 0.9502, 0.9502, 0.9502, 0.9502, 0.9502, 0.9502, 0.9502, 0.9502, 0.9502, 0.9502, 0.9502, 0.9502, 0.9502, 0.9501, 0.95, 0.9499, 0.9496, 0.9495, 0.9494, 0.9492, 0.9491, 0.9481, 0.9473, 0.9453, 0.944, 0.9438, 0.9434, 0.9151, 0.9124, 0.9052, 0.9118, 0.8999, 0.8106, 0.7747, 0.555, 0.5801, 1.1336, 1.1323, 1.1313, 1.1303, 1.1296, 1.1276, 1.1276, 1.127, 1.127, 1.1268, 1.1267, 1.1264, 1.125, 1.1248, 1.1246, 1.1232, 1.1226, 1.1214, 1.1213, 1.1211, 1.1203, 1.1192, 1.1186, 1.1186, 1.1181, 1.1178, 1.1168, 1.1167, 1.1166, 1.1164, 1.1079, 1.1056, 1.1158, 1.106, 1.0624, 1.0493, 1.041, 1.032, 1.0861, 1.0829, 1.0704, 0.9576, 0.9838, 0.6956, 0.9719, 0.906, 0.9945, 0.9197, 0.7858, 0.7627, 0.5651, 0.9651, 0.7239, 0.7568, 0.1459, 0.6503, -0.2923, -0.7296, 0.5469, 0.2364, 1.2196, 1.2189, 1.2182, 1.218, 1.2179, 1.2175, 1.216, 1.2146, 1.2136, 1.2129, 1.2126, 1.212, 1.2111, 1.209, 1.2089, 1.2077, 1.2058, 1.2048, 1.2046, 1.2045, 1.2032, 1.2023, 1.2019, 1.2016, 1.2015, 1.2013, 1.2012, 1.2004, 1.2001, 1.2001, 1.1989, 1.192, 1.1986, 1.1857, 1.1763, 1.1841, 1.1668, 1.1272, 1.0546, 1.1359, 1.0015, 0.9143, 1.0213, 0.7627, 0.8671, 1.0794, 0.8065, 0.7043, 0.1966, 0.3948, 0.8432, 0.6963, -0.5296, 0.6095, 0.6729, 0.6241, 0.4543, 0.4161, -0.441, -0.6188, 0.0596, -1.0004]}, \"token.table\": {\"Topic\": [2, 2, 3, 1, 2, 3, 1, 2, 3, 3, 1, 2, 2, 3, 2, 3, 2, 2, 3, 2, 2, 3, 3, 2, 3, 1, 2, 3, 2, 3, 2, 3, 2, 3, 2, 3, 3, 1, 2, 3, 2, 3, 2, 3, 2, 2, 3, 3, 3, 1, 1, 2, 3, 2, 3, 1, 2, 3, 2, 2, 3, 2, 3, 2, 3, 3, 2, 3, 2, 3, 3, 2, 3, 3, 2, 3, 2, 2, 3, 2, 3, 3, 2, 3, 2, 3, 3, 1, 2, 2, 3, 2, 3, 1, 1, 2, 3, 2, 3, 1, 2, 3, 2, 1, 1, 3, 2, 3, 1, 2, 3, 2, 3, 1, 3, 1, 2, 3, 1, 3, 1, 2, 3, 2, 3, 2, 3, 2, 3, 2, 3, 2, 3, 2, 3, 2, 3, 3, 3, 2, 3, 2, 2, 3, 1, 2, 3, 2, 2, 3, 2, 3, 2, 3, 2, 2, 3, 1, 2, 3, 1, 2, 3, 2, 3, 1, 2, 3, 3, 2, 3, 2, 3, 2, 3, 2, 3, 3, 1, 2, 3, 1, 3, 1, 1, 2, 1, 2, 3, 2, 3, 2, 2, 3, 2, 3, 1, 2, 1, 2, 3, 2, 2, 3, 1, 2, 3, 2, 1, 2, 3, 3, 1, 2, 3, 3, 2, 2, 3, 1, 3, 2, 3, 2, 3, 3, 1, 2, 3, 2, 3, 2, 2, 3, 1, 2, 3, 2, 3, 2, 1, 3, 1, 2, 2, 3], \"Freq\": [0.9684558319339812, 0.9980434952779969, 0.0039921739811119876, 0.9983276730295736, 0.08904634206827114, 0.9082726890963657, 0.9547873120816471, 0.000755967784704392, 0.04460209929755913, 0.9926299415837404, 0.9991250196042025, 0.977734610973146, 0.6822618861678745, 0.3127033644936092, 0.8043366999269398, 0.19601482603261558, 0.9887476728659355, 0.9901195831058633, 0.0064713698242213295, 0.9922948532857347, 0.4617098984952326, 0.538661548244438, 0.9701557783036105, 0.6162051454129664, 0.38318639294587825, 0.8383601696543741, 0.003929813295254879, 0.15719253181019513, 0.37123898094439967, 0.6276987600509173, 0.9873755790587613, 0.009586170670473411, 0.9282255820170069, 0.07079686642502594, 0.30303753446287895, 0.6980078040998897, 0.9958135394209703, 0.9978122513026357, 0.0007957035496831226, 0.0015914070993662452, 0.34044523489516754, 0.6556723042425449, 0.9773954885992072, 0.02171989974664905, 0.9757008559722343, 0.02713458344615029, 0.9768450040614105, 0.9881578217077128, 0.9553914210135656, 0.998925384016764, 0.9988718928029166, 0.7933108444260856, 0.20341303703232966, 0.45145281649403984, 0.5442170938558288, 0.998776450922404, 0.6433561702173476, 0.356988948492135, 0.9785665318943324, 0.9164776524701871, 0.08459793715109419, 0.6860636390812423, 0.3111218828391681, 0.3190375647365826, 0.6815802519372447, 0.9839236882853932, 0.012187017602214113, 0.9749614081771291, 0.8368416135429895, 0.16162177085594218, 0.9775311999849697, 0.55306043750703, 0.44244835000562405, 0.9614782167406993, 0.010131235836864962, 0.9928611120127663, 0.9837897607788769, 0.026121286742131523, 0.9664876094588664, 0.970683761907408, 0.029867192674074092, 0.994672644300894, 0.981852338283434, 0.01664156505565142, 0.01926423712686982, 0.9728439749069259, 0.9866969381033738, 0.9988291558024002, 0.0015955737313137382, 0.5634622363443385, 0.4339568029910026, 0.15652560958071918, 0.840295377749124, 0.9988717614913807, 0.9986719618651717, 0.041000338583622196, 0.9566745669511846, 0.01451526234421654, 0.9725225770625082, 0.9991004865068572, 0.025090201074000673, 0.9743361417070261, 0.9887477630729762, 0.9970898426752675, 0.9908971157622405, 0.00591580367619248, 0.9373267388115692, 0.059324477139972735, 0.9614723688789333, 0.03823233278310927, 0.0014160123253003436, 0.9696248371403787, 0.025742252313461382, 0.9975418230939549, 0.0015183284978599009, 0.998784530510264, 0.845673452581142, 0.15034194712553636, 0.9920295839562243, 0.0060860710672161, 0.9618555927085163, 0.036750740696372824, 0.00126726692056458, 0.9884137757478714, 0.019380662269566105, 0.07498867757360562, 0.9148618663979886, 0.9438152980254094, 0.05393230274430911, 0.01560370660358665, 0.9830335160259589, 0.9850050817154722, 0.017433718260450835, 0.7027730559110221, 0.2935110998216622, 0.9539180813967824, 0.04088220348843353, 0.9640751969089586, 0.9936033092717407, 0.9784394920452232, 0.9627505100828323, 0.9744055421363064, 0.18404760604608236, 0.8128769267035304, 0.9990641935000869, 0.006472843670394629, 0.9903450815703783, 0.9959778733567287, 0.9742255423853508, 0.9739454272319229, 0.9738889022505528, 0.013340943866445928, 0.043165836482578546, 0.9496484026167281, 0.9946109832402688, 0.5392273980101447, 0.4621949125801241, 0.6902332997850196, 0.23994327572924876, 0.0708202619993818, 0.9984282859345658, 0.407255011541725, 0.5929632968047516, 0.6593330766619119, 0.3373332020130712, 0.6838567362166811, 0.12657925165549144, 0.18904693429066904, 0.9898060633937711, 0.03046236544835895, 0.9595645116233069, 0.9062184548835781, 0.09002170081624948, 0.9710561057000199, 0.02735369311831042, 0.03432152481708376, 0.9610026948783453, 0.9851908499463023, 0.9940397961501648, 0.000765234639068641, 0.0045914078344118465, 0.9912891147830333, 0.006354417402455341, 0.9963647021586083, 0.999411136631586, 0.991343013234339, 0.9642389370374377, 0.0159979310820691, 0.01963382450981208, 0.010158408728236788, 0.9853656466389684, 0.9812194764286426, 0.9855290488345866, 0.00887864007959087, 0.8555994490512392, 0.14157400955524102, 0.9963962702714169, 0.0032298096281083207, 0.6729750916383915, 0.15477370631871956, 0.17273379510655734, 0.9858977939185375, 0.9917709688721572, 0.006084484471608326, 0.9988719592956744, 0.41250173093491893, 0.5861866702759374, 0.9909408843489002, 0.9993218874912776, 0.9740401518104445, 0.994944989810719, 0.9833018023131609, 0.868117479230616, 0.023059370542063237, 0.10715825134252917, 0.956769941565441, 0.9794712523749266, 0.2688545477379749, 0.7316927565020835, 0.9987023757602675, 0.0016212700905199149, 0.021098100367706853, 0.9705126169145152, 0.20019176055256496, 0.7950472776230437, 0.9803524043903787, 0.9989260491897054, 0.9016295951321841, 0.10018106612579823, 0.8495275501446955, 0.1486673212753217, 0.9917741543599011, 0.8696601178666241, 0.1278911938039153, 0.9984113236340784, 0.04665575376114674, 0.948666993143317, 0.1378811408007332, 0.8648907922955082, 0.983020923404721, 0.9993952042604395, 0.9889869576393701, 0.9491781727930767, 0.05003419825575908, 0.42507394214903615, 0.5711931097627674], \"Term\": [\"accepter\", \"accord\", \"accord\", \"adresse\", \"aide\", \"aide\", \"aider\", \"aider\", \"aider\", \"an\", \"anormalement\", \"appli\", \"application\", \"application\", \"apr\\u00e8s\", \"apr\\u00e8s\", \"aujourd\", \"aussi\", \"aussi\", \"autorise\", \"avoir\", \"avoir\", \"base\", \"beaucoup\", \"beaucoup\", \"besoin\", \"besoin\", \"besoin\", \"bien\", \"bien\", \"bon\", \"bon\", \"bonne\", \"bonne\", \"bonsoir\", \"bonsoir\", \"ca\", \"cas\", \"cas\", \"cas\", \"cela\", \"cela\", \"cependant\", \"cependant\", \"changer\", \"chapitre\", \"chapitre\", \"cherche\", \"classe\", \"client\", \"cliquant\", \"comme\", \"comme\", \"comment\", \"comment\", \"contacter\", \"cour\", \"cour\", \"c\\u00f4t\\u00e9\", \"demain\", \"demain\", \"demande\", \"demande\", \"devoir\", \"devoir\", \"difficult\\u00e9\", \"dire\", \"dire\", \"disponible\", \"disponible\", \"dissertation\", \"donc\", \"donc\", \"droit\", \"d\\u00e9j\\u00e0\", \"d\\u00e9j\\u00e0\", \"end\", \"enfant\", \"enfant\", \"envoyer\", \"envoyer\", \"espagnol\", \"esp\\u00e8re\", \"esp\\u00e8re\", \"exercice\", \"exercice\", \"expliquer\", \"eytan\", \"eytan\", \"faire\", \"faire\", \"fait\", \"fait\", \"faq\", \"ferai\", \"fil\", \"fil\", \"fille\", \"fille\", \"fr\", \"heure\", \"heure\", \"hui\", \"h\\u00e9site\", \"h\\u00e9sitez\", \"h\\u00e9sitez\", \"ici\", \"ici\", \"information\", \"information\", \"information\", \"journ\\u00e9e\", \"journ\\u00e9e\", \"lien\", \"lien\", \"long\", \"lundi\", \"lundi\", \"l\\u00e0\", \"l\\u00e0\", \"mail\", \"mail\", \"mail\", \"mardi\", \"mardi\", \"maths\", \"maths\", \"matin\", \"matin\", \"mati\\u00e8re\", \"mati\\u00e8re\", \"mercredi\", \"mercredi\", \"message\", \"message\", \"midi\", \"midi\", \"m\\u00e9thode\", \"niveau\", \"normalement\", \"note\", \"nouvelle\", \"num\\u00e9ro\", \"num\\u00e9ro\", \"n\\u00e9cessaire\", \"ok\", \"ok\", \"parfait\", \"partage\", \"partie\", \"partir\", \"partir\", \"pensez\", \"pensez\", \"personnelles\", \"peut\", \"peut\", \"peux\", \"peux\", \"peux\", \"plaisir\", \"plus\", \"plus\", \"possible\", \"possible\", \"pouvez\", \"pouvez\", \"pouvez\", \"prends\", \"prix\", \"prix\", \"probl\\u00e8me\", \"probl\\u00e8me\", \"prochaine\", \"prochaine\", \"quel\", \"quel\", \"quelle\", \"question\", \"question\", \"question\", \"recherche\", \"recherche\", \"recherchez\", \"retrouver\", \"re\\u00e7u\", \"r\\u00e9ponse\", \"r\\u00e9ponse\", \"r\\u00e9ponse\", \"sais\", \"sais\", \"salut\", \"samedi\", \"samedi\", \"semaine\", \"semaine\", \"service\", \"service\", \"si\", \"si\", \"si\", \"sinon\", \"soir\\u00e9e\", \"soir\\u00e9e\", \"solliciter\", \"souci\", \"souci\", \"super\", \"support\", \"s\\u00e9ance\", \"s\\u00fbr\", \"tarif\", \"temps\", \"temps\", \"temps\", \"terminale\", \"top\", \"tout\", \"tout\", \"toutes\", \"toutes\", \"trop\", \"trop\", \"tr\\u00e8s\", \"tr\\u00e8s\", \"type\", \"urgence\", \"va\", \"va\", \"vais\", \"vais\", \"vendredi\", \"ver\", \"ver\", \"veuillez\", \"vois\", \"vois\", \"vraiment\", \"vraiment\", \"week\", \"www\", \"zoom\", \"\\u00e9quipe\", \"\\u00e9quipe\", \"\\u00eatre\", \"\\u00eatre\"]}, \"R\": 30, \"lambda.step\": 0.01, \"plot.opts\": {\"xlab\": \"PC1\", \"ylab\": \"PC2\"}, \"topic.order\": [3, 2, 1]};\n",
       "\n",
       "function LDAvis_load_lib(url, callback){\n",
       "  var s = document.createElement('script');\n",
       "  s.src = url;\n",
       "  s.async = true;\n",
       "  s.onreadystatechange = s.onload = callback;\n",
       "  s.onerror = function(){console.warn(\"failed to load library \" + url);};\n",
       "  document.getElementsByTagName(\"head\")[0].appendChild(s);\n",
       "}\n",
       "\n",
       "if(typeof(LDAvis) !== \"undefined\"){\n",
       "   // already loaded: just create the visualization\n",
       "   !function(LDAvis){\n",
       "       new LDAvis(\"#\" + \"ldavis_el139161396573577759206461796785\", ldavis_el139161396573577759206461796785_data);\n",
       "   }(LDAvis);\n",
       "}else if(typeof define === \"function\" && define.amd){\n",
       "   // require.js is available: use it to load d3/LDAvis\n",
       "   require.config({paths: {d3: \"https://d3js.org/d3.v5\"}});\n",
       "   require([\"d3\"], function(d3){\n",
       "      window.d3 = d3;\n",
       "      LDAvis_load_lib(\"https://cdn.jsdelivr.net/gh/bmabey/pyLDAvis@3.3.1/pyLDAvis/js/ldavis.v3.0.0.js\", function(){\n",
       "        new LDAvis(\"#\" + \"ldavis_el139161396573577759206461796785\", ldavis_el139161396573577759206461796785_data);\n",
       "      });\n",
       "    });\n",
       "}else{\n",
       "    // require.js not available: dynamically load d3 & LDAvis\n",
       "    LDAvis_load_lib(\"https://d3js.org/d3.v5.js\", function(){\n",
       "         LDAvis_load_lib(\"https://cdn.jsdelivr.net/gh/bmabey/pyLDAvis@3.3.1/pyLDAvis/js/ldavis.v3.0.0.js\", function(){\n",
       "                 new LDAvis(\"#\" + \"ldavis_el139161396573577759206461796785\", ldavis_el139161396573577759206461796785_data);\n",
       "            })\n",
       "         });\n",
       "}\n",
       "</script>"
      ]
     },
     "metadata": {},
     "execution_count": 16
    }
   ],
   "metadata": {}
  },
  {
   "cell_type": "code",
   "execution_count": null,
   "source": [],
   "outputs": [],
   "metadata": {}
  }
 ],
 "metadata": {
  "kernelspec": {
   "display_name": "Python 3",
   "language": "python",
   "name": "python3"
  },
  "language_info": {
   "codemirror_mode": {
    "name": "ipython",
    "version": 3
   },
   "file_extension": ".py",
   "mimetype": "text/x-python",
   "name": "python",
   "nbconvert_exporter": "python",
   "pygments_lexer": "ipython3",
   "version": "3.8.6"
  }
 },
 "nbformat": 4,
 "nbformat_minor": 4
}