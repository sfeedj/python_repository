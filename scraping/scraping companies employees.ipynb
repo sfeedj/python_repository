{
 "cells": [
  {
   "cell_type": "code",
   "execution_count": 1,
   "metadata": {},
   "outputs": [],
   "source": [
    "from selenium import webdriver\n",
    "from bs4 import BeautifulSoup\n",
    "import pandas as pd\n",
    "import re\n",
    "import numpy as np"
   ]
  },
  {
   "cell_type": "code",
   "execution_count": 2,
   "metadata": {},
   "outputs": [],
   "source": [
    "df = pd.read_excel('classeur2_version.xls', na_values=float('nan')) # can also index sheet by name or fetch all sheets\n",
    "target = df.loc[df[\"nombre employés\"] == \"none\"]\n",
    "companies = target.ENTREPRISE"
   ]
  },
  {
   "cell_type": "code",
   "execution_count": 3,
   "metadata": {
    "scrolled": true
   },
   "outputs": [
    {
     "data": {
      "text/plain": [
       "1927          gondrand\n",
       "1928      auer-gianola\n",
       "1929           cavamac\n",
       "1930             curie\n",
       "1931                eu\n",
       "1932          gondrand\n",
       "1933         hansgrohe\n",
       "1934       legouessant\n",
       "1935       maisonbleue\n",
       "1936    r-chevalier-sa\n",
       "1937            sinnae\n",
       "1938     squarehabitat\n",
       "1939          rdmgroup\n",
       "1940                fr\n",
       "1941          prolians\n",
       "1942                fr\n",
       "1943            altrad\n",
       "1944         castorama\n",
       "1945       labogilbert\n",
       "1946             marie\n",
       "Name: ENTREPRISE, dtype: object"
      ]
     },
     "execution_count": 3,
     "metadata": {},
     "output_type": "execute_result"
    }
   ],
   "source": [
    "companies.head()"
   ]
  },
  {
   "cell_type": "code",
   "execution_count": 4,
   "metadata": {},
   "outputs": [],
   "source": [
    " driver = webdriver.Chrome(\"C:/Users/eliot/Documents/scraping/chromedriver.exe\")"
   ]
  },
  {
   "cell_type": "code",
   "execution_count": 15,
   "metadata": {},
   "outputs": [],
   "source": [
    "def findNumberOfEmployees(wordlist):\n",
    "    flaglist=[\"salariés\", \"collaborateurs\", \"employés\", \"personnes\"]\n",
    "    for i in range(0,len(wordlist)):\n",
    "        if wordlist[i] in flaglist:\n",
    "            if i>=2 and wordlist[i-1].isnumeric() and wordlist[i-2].isnumeric():\n",
    "                return \"\".join([wordlist[i-2], wordlist[i-1]])\n",
    "\n",
    "            elif wordlist[i-1].isnumeric:\n",
    "                return wordlist[i-1]\n",
    "\n",
    "            elif i<len(wordlist)-1 and (wordlist[i+1]== \":\") :\n",
    "                if i<len(wordlist)-2 and wordlist[i+1].isnumeric() and wordlist[i+2].isnumeric():\n",
    "                    return \"\".join([wordlist[i+1], wordlist[i+2]])\n",
    "                \n",
    "                elif wordlist[i+1].isnumeric:\n",
    "                    return wordlist[i+1]\n",
    "                else:\n",
    "                    return \"none\"\n",
    "            else:\n",
    "                return \"none\"\n",
    "\n",
    "def findNumberOfEmployeesInTable(divList):\n",
    "    tdList = divList.find('table').find_all('td')\n",
    "    flagEmployeesWords=[\"effectif\", \"effectifs\", \"employé\",\"employés\"]\n",
    "    for i in range(0,len(tdList)):\n",
    "        if any(word in tdList[i].text.lower() for word in flagEmployeesWords ):\n",
    "            return(tdList[i+1].text)\n",
    "        else:\n",
    "            return \"none\""
   ]
  },
  {
   "cell_type": "code",
   "execution_count": null,
   "metadata": {
    "scrolled": true
   },
   "outputs": [],
   "source": [
    "import time\n",
    "import random\n",
    "import string\n",
    "\n",
    "#Values found by inspecting google's SERP\n",
    "regexKnowledgeCard = re.compile('Z0LcW XcVN5d')\n",
    "regexNLP = re.compile(\"LGOjhe\")\n",
    "regexTable = re.compile(\"webanswers-webanswers_table__webanswers-table\") \n",
    "\n",
    "employees_number=[] #List to store the number of employees \n",
    "companies_name=[] #List to store the companies' name \n",
    "\n",
    "for company in companies:\n",
    "    print('-----', company,'-----')\n",
    "    infoNotFound = True\n",
    "\n",
    "    if isinstance(company, str) and (company not in [\"gmail\", \"hotmail\", \"outlook\", \"wanadoo\",\"orange\", \"sfr\", \"live\"]): # valid company name\n",
    "        infoNotFound = False\n",
    "        print('valid company name')\n",
    "        if company in companies_name : #company already scraped\n",
    "            print('company already scraped')\n",
    "            index = companies_name.index(company)\n",
    "            value = employees_number[index]\n",
    "            employees_number.append(value if value else \"none\")  \n",
    "            companies_name.append(company)\n",
    "        else:\n",
    "            time.sleep(random.uniform(1,6)) #to be detected by google a little later\n",
    "            driver.get(\"https://www.google.com/search?q=nombre+d%27employés+\"+company)\n",
    "            print(\"https://www.google.com/search?q=nombre+d%27employés+\"+company)\n",
    "            content = driver.page_source\n",
    "            soup = BeautifulSoup(content)\n",
    "            divList=soup.findAll('div', attrs={'class':regexKnowledgeCard})\n",
    "            infoNotFound = (len(divList) == 0)   \n",
    "\n",
    "            if not infoNotFound: #knowledge card div found\n",
    "                print(\"-> trying knowledge card...\")\n",
    "                for div in divList:\n",
    "                    company_number = (div.text).replace(\" \",\"\").replace(\" \",\"\") if div.text else \"/\" #replace odd space chars\n",
    "                    if company_number :\n",
    "                        print(\"done\")\n",
    "                        employees_number.append(company_number)\n",
    "                        companies_name.append(company)\n",
    "                    else: # info not found\n",
    "                        infoNotFound = True  \n",
    "\n",
    "            if infoNotFound: #try NLP method if no knowledge card provided\n",
    "                print(\"-> trying text description analysis...\")\n",
    "                divList=soup.findAll('div', attrs={'class':\"LGOjhe\"})\n",
    "                infoNotFound = (len(divList) == 0)    \n",
    "                if not infoNotFound: #text description found\n",
    "                    for div in divList:\n",
    "                        company_description = (div.text).translate(str.maketrans('', '', string.punctuation))\n",
    "                        company_description = company_description.split(\" \") if div.text else \"/\"\n",
    "                        print(company_description)\n",
    "                        company_number = findNumberOfEmployees(company_description)\n",
    "                        if company_number != \"none\": #if a value has been found\n",
    "                            employees_number.append(company_number)\n",
    "                            companies_name.append(company)\n",
    "                            print(\"done\")\n",
    "                        else:\n",
    "                            infoNotFound = True\n",
    "\n",
    "            if infoNotFound: #try to search in table\n",
    "                print(\"-> trying table analysis...\")\n",
    "                divList=soup.find('div', attrs={'class':regexTable})\n",
    "                if divList:\n",
    "                    company_number = findNumberOfEmployeesInTable(divList)\n",
    "                    if company_number != \"none\": #if a value has been found\n",
    "                        employees_number.append(company_number)\n",
    "                        companies_name.append(company)\n",
    "                        infoNotFound = False\n",
    "                        print(\"done\")\n",
    "                    else:\n",
    "                        infoNotFound = True\n",
    "\n",
    "    if infoNotFound:\n",
    "        print(\"info not found :(\")\n",
    "        employees_number.append(\"none\")\n",
    "        companies_name.append(company)\n",
    "\n"
   ]
  },
  {
   "cell_type": "code",
   "execution_count": 18,
   "metadata": {},
   "outputs": [],
   "source": [
    "df = pd.DataFrame({'Company name':companies_name,'#employees':employees_number}) \n",
    "df.to_csv('result.csv', index=False, encoding='utf-8')"
   ]
  }
 ],
 "metadata": {
  "kernelspec": {
   "display_name": "Python 3",
   "language": "python",
   "name": "python3"
  },
  "language_info": {
   "codemirror_mode": {
    "name": "ipython",
    "version": 3
   },
   "file_extension": ".py",
   "mimetype": "text/x-python",
   "name": "python",
   "nbconvert_exporter": "python",
   "pygments_lexer": "ipython3",
   "version": "3.8.6"
  }
 },
 "nbformat": 4,
 "nbformat_minor": 4
}
